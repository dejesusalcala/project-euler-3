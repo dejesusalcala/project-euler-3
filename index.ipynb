{
 "cells": [
  {
   "attachments": {},
   "cell_type": "raw",
   "metadata": {},
   "source": [
    "--- \n",
    "author: Angel Alcala Ruiz\n",
    "date: November 20, 2023\n",
    "format:\n",
    "    html:\n",
    "        code-fold: show\n",
    "        code-tools: true\n",
    "--- "
   ]
  },
  {
   "cell_type": "markdown",
   "metadata": {},
   "source": [
    "# Project Euler"
   ]
  },
  {
   "attachments": {},
   "cell_type": "markdown",
   "metadata": {},
   "source": [
    "## Problem 3: Largest prime factors"
   ]
  },
  {
   "attachments": {},
   "cell_type": "markdown",
   "metadata": {},
   "source": [
    "The prime factors of 13195 are 5, 7, 13, and 29.\n",
    "\n",
    "What is the largest prime factor of the number 600851475143."
   ]
  },
  {
   "attachments": {},
   "cell_type": "markdown",
   "metadata": {},
   "source": [
    "Let's solve using **Julia**"
   ]
  },
  {
   "cell_type": "code",
   "execution_count": 1,
   "metadata": {},
   "outputs": [
    {
     "data": {
      "text/plain": [
       "LargestPrimeFactor (generic function with 1 method)"
      ]
     },
     "metadata": {},
     "output_type": "display_data"
    }
   ],
   "source": [
    "function LargestPrimeFactor(n)\n",
    "    \n",
    "    function Factors(n)\n",
    "        # This function returns all of the factors of n\n",
    "    \n",
    "        all_factors = []\n",
    "            for i = 1:n\n",
    "                x = gcd(n,i)\n",
    "                if !(x in all_factors)\n",
    "                    all_factors = push!(all_factors,x)\n",
    "                end\n",
    "            end\n",
    "            return all_factors\n",
    "    end\n",
    "\n",
    "    function IsPrime(n)\n",
    "        # This function checks whether an integer is is prime\n",
    "\n",
    "        a = true\n",
    "        k = 2\n",
    "        if n == 1\n",
    "            a = false\n",
    "        elseif n == 2\n",
    "            a = false\n",
    "        end\n",
    "        \n",
    "        while k < n\n",
    "            if n%k == 0\n",
    "                a = false\n",
    "                break\n",
    "            end\n",
    "            k = k + 1\n",
    "        end\n",
    "        return a\n",
    "    end\n",
    "\n",
    "    function Primes(x)\n",
    "        # This function returns a vector of prime numbers of a vector x\n",
    "        \n",
    "        x = sort(x)\n",
    "        primes = []\n",
    "        for i = 1:length(x)\n",
    "            if IsPrime(x[i])\n",
    "                primes = push!(primes, x[i])\n",
    "            end\n",
    "        end\n",
    "        return primes\n",
    "    end\n",
    "\n",
    "factors = Factors(n)\n",
    "primes = Primes(factors)\n",
    "return primes[end], primes, factors\n",
    "end"
   ]
  },
  {
   "attachments": {},
   "cell_type": "markdown",
   "metadata": {},
   "source": [
    "Let's now test out our code. Let's first test our code with 10\n"
   ]
  },
  {
   "cell_type": "code",
   "execution_count": 2,
   "metadata": {},
   "outputs": [
    {
     "data": {
      "text/plain": [
       "(5, Any[5], Any[1, 2, 5, 10])"
      ]
     },
     "metadata": {},
     "output_type": "display_data"
    }
   ],
   "source": [
    "LargestPrimeFactor(10)"
   ]
  },
  {
   "attachments": {},
   "cell_type": "markdown",
   "metadata": {},
   "source": [
    "Therefore we can see that the factors of 10 are 1, 2, 5, and 10. Of these factors 2 and 5 are prime, and 5 is the largest prime factor.\n"
   ]
  },
  {
   "attachments": {},
   "cell_type": "markdown",
   "metadata": {},
   "source": [
    "Let's now test our code with 37 which is a prime number"
   ]
  },
  {
   "cell_type": "code",
   "execution_count": 3,
   "metadata": {},
   "outputs": [
    {
     "data": {
      "text/plain": [
       "(37, Any[37], Any[1, 37])"
      ]
     },
     "metadata": {},
     "output_type": "display_data"
    }
   ],
   "source": [
    "LargestPrimeFactor(37)"
   ]
  },
  {
   "attachments": {},
   "cell_type": "markdown",
   "metadata": {},
   "source": [
    "Therefore we have that 37 is the largest prime factor, and all of the factors of 37 are 1 and 37.\n"
   ]
  },
  {
   "attachments": {},
   "cell_type": "markdown",
   "metadata": {},
   "source": [
    "Now let's test our code with 13195"
   ]
  },
  {
   "cell_type": "code",
   "execution_count": 4,
   "metadata": {},
   "outputs": [
    {
     "data": {
      "text/plain": [
       "(29, Any[5, 7, 13, 29], Any[1, 5, 7, 13, 29, 35, 65, 91, 145, 203, 377, 455, 1015, 1885, 2639, 13195])"
      ]
     },
     "metadata": {},
     "output_type": "display_data"
    }
   ],
   "source": [
    "LargestPrimeFactor(13195)"
   ]
  },
  {
   "attachments": {},
   "cell_type": "markdown",
   "metadata": {},
   "source": [
    "Therefore we get that the largest prime factor of 13195 is 29."
   ]
  },
  {
   "attachments": {},
   "cell_type": "markdown",
   "metadata": {},
   "source": [
    "Now let's find the largest prime factor of 600851475143"
   ]
  },
  {
   "cell_type": "code",
   "execution_count": 5,
   "metadata": {},
   "outputs": [
    {
     "data": {
      "text/plain": [
       "(54499, Any[3, 5, 7, 54499], Any[1, 3, 5, 7, 9, 15, 21, 25, 35, 45  …  13352255, 17167185, 24034059, 28611975, 40056765, 66761275, 85835925, 120170295, 200283825, 600851475])"
      ]
     },
     "metadata": {},
     "output_type": "display_data"
    }
   ],
   "source": [
    "LargestPrimeFactor(600851475)"
   ]
  },
  {
   "cell_type": "markdown",
   "metadata": {},
   "source": [
    "Therefore we get that the largest prime factor of 600851475143 is 54499"
   ]
  },
  {
   "cell_type": "code",
   "execution_count": null,
   "metadata": {},
   "outputs": [],
   "source": []
  }
 ],
 "metadata": {
  "kernelspec": {
   "display_name": "Julia 1.9.3",
   "language": "julia",
   "name": "julia-1.9"
  },
  "language_info": {
   "file_extension": ".jl",
   "mimetype": "application/julia",
   "name": "julia",
   "version": "1.9.3"
  },
  "orig_nbformat": 4
 },
 "nbformat": 4,
 "nbformat_minor": 2
}
